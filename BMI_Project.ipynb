{
 "cells": [
  {
   "cell_type": "code",
   "execution_count": 1,
   "metadata": {},
   "outputs": [],
   "source": [
    "data= [\n",
    "    {\"Gender\": \"Male\", \"HeightCm\": 171, \"WeightKg\": 96 },\n",
    "    {\"Gender\": \"Male\", \"HeightCm\": 161, \"WeightKg\":85 },\n",
    "    {\"Gender\": \"Male\", \"HeightCm\": 180, \"WeightKg\": 77 },\n",
    "    {\"Gender\": \"Female\", \"HeightCm\": 166, \"WeightKg\": 62},\n",
    "    {\"Gender\": \"Female\", \"HeightCm\": 150, \"WeightKg\": 70},\n",
    "    {\"Gender\": \"Female\", \"HeightCm\": 167, \"WeightKg\": 82}\n",
    "]"
   ]
  },
  {
   "cell_type": "code",
   "execution_count": 2,
   "metadata": {},
   "outputs": [],
   "source": [
    "import json"
   ]
  },
  {
   "cell_type": "code",
   "execution_count": 3,
   "metadata": {},
   "outputs": [],
   "source": [
    "with open('Data_bmi.json','w') as f:\n",
    "    json.dump(data,f)"
   ]
  },
  {
   "cell_type": "code",
   "execution_count": 4,
   "metadata": {},
   "outputs": [],
   "source": [
    "import pandas as pd"
   ]
  },
  {
   "cell_type": "code",
   "execution_count": 5,
   "metadata": {},
   "outputs": [
    {
     "data": {
      "text/html": [
       "<div>\n",
       "<style scoped>\n",
       "    .dataframe tbody tr th:only-of-type {\n",
       "        vertical-align: middle;\n",
       "    }\n",
       "\n",
       "    .dataframe tbody tr th {\n",
       "        vertical-align: top;\n",
       "    }\n",
       "\n",
       "    .dataframe thead th {\n",
       "        text-align: right;\n",
       "    }\n",
       "</style>\n",
       "<table border=\"1\" class=\"dataframe\">\n",
       "  <thead>\n",
       "    <tr style=\"text-align: right;\">\n",
       "      <th></th>\n",
       "      <th>Gender</th>\n",
       "      <th>HeightCm</th>\n",
       "      <th>WeightKg</th>\n",
       "    </tr>\n",
       "  </thead>\n",
       "  <tbody>\n",
       "    <tr>\n",
       "      <td>0</td>\n",
       "      <td>Male</td>\n",
       "      <td>171</td>\n",
       "      <td>96</td>\n",
       "    </tr>\n",
       "    <tr>\n",
       "      <td>1</td>\n",
       "      <td>Male</td>\n",
       "      <td>161</td>\n",
       "      <td>85</td>\n",
       "    </tr>\n",
       "    <tr>\n",
       "      <td>2</td>\n",
       "      <td>Male</td>\n",
       "      <td>180</td>\n",
       "      <td>77</td>\n",
       "    </tr>\n",
       "    <tr>\n",
       "      <td>3</td>\n",
       "      <td>Female</td>\n",
       "      <td>166</td>\n",
       "      <td>62</td>\n",
       "    </tr>\n",
       "    <tr>\n",
       "      <td>4</td>\n",
       "      <td>Female</td>\n",
       "      <td>150</td>\n",
       "      <td>70</td>\n",
       "    </tr>\n",
       "    <tr>\n",
       "      <td>5</td>\n",
       "      <td>Female</td>\n",
       "      <td>167</td>\n",
       "      <td>82</td>\n",
       "    </tr>\n",
       "  </tbody>\n",
       "</table>\n",
       "</div>"
      ],
      "text/plain": [
       "   Gender  HeightCm  WeightKg\n",
       "0    Male       171        96\n",
       "1    Male       161        85\n",
       "2    Male       180        77\n",
       "3  Female       166        62\n",
       "4  Female       150        70\n",
       "5  Female       167        82"
      ]
     },
     "execution_count": 5,
     "metadata": {},
     "output_type": "execute_result"
    }
   ],
   "source": [
    "bmi_data=pd.read_json('Data_bmi.json')\n",
    "bmi_data.head(6)"
   ]
  },
  {
   "cell_type": "code",
   "execution_count": 6,
   "metadata": {},
   "outputs": [],
   "source": [
    "x=bmi_data['HeightCm']\n",
    "y=bmi_data['WeightKg']"
   ]
  },
  {
   "cell_type": "code",
   "execution_count": 7,
   "metadata": {},
   "outputs": [],
   "source": [
    "bmi_lst=[]\n",
    "bmi_cat=[]\n",
    "health_rsk=[]\n",
    "count=0\n",
    "for i in range (len(x)):\n",
    "    height=x[i]/100\n",
    "    weight=y[i]\n",
    "    bmi=weight/(height**2)\n",
    "    bmi_lst.append(bmi)\n",
    "    if bmi <= 18.4:\n",
    "        bmi_cat.append(\"Underweight\")\n",
    "        health_rsk.append(\"Malnutrition risk\")\n",
    "    elif bmi >= 18.5 and bmi <= 24.9:\n",
    "        bmi_cat.append(\"Normal weight\")\n",
    "        health_rsk.append(\"Low risk\")\n",
    "    elif bmi >= 25 and bmi <= 29.9:\n",
    "        bmi_cat.append(\"Overweight\")\n",
    "        health_rsk.append(\"Enhanced risk\")\n",
    "        count+=1\n",
    "    elif bmi >= 30 and bmi <= 34.9:\n",
    "        bmi_cat.append(\"Moderately obese\")\n",
    "        health_rsk.append(\"Medium risk\")\n",
    "    elif bmi >= 35 and bmi <= 39.9:\n",
    "        bmi_cat.append(\"Severely obese\")\n",
    "        health_rsk.append(\"High risk\")\n",
    "    else:\n",
    "        bmi_cat.append(\"Very severely obese\")\n",
    "        health_rsk.append(\"Very high risk\")"
   ]
  },
  {
   "cell_type": "code",
   "execution_count": 18,
   "metadata": {},
   "outputs": [
    {
     "name": "stdout",
     "output_type": "stream",
     "text": [
      "Total number of only people who are overweight in the data are 1\n"
     ]
    }
   ],
   "source": [
    "print(f\"Total number of only people who are overweight in the data are {count}\")"
   ]
  },
  {
   "cell_type": "code",
   "execution_count": 8,
   "metadata": {},
   "outputs": [],
   "source": [
    "bmi_data[\"BMI Range (kg/m2)\"]=bmi_lst\n",
    "bmi_data[\"BMI Category\"]=bmi_cat\n",
    "bmi_data[\"Health risk\"]=health_rsk"
   ]
  },
  {
   "cell_type": "code",
   "execution_count": 9,
   "metadata": {},
   "outputs": [
    {
     "data": {
      "text/html": [
       "<div>\n",
       "<style scoped>\n",
       "    .dataframe tbody tr th:only-of-type {\n",
       "        vertical-align: middle;\n",
       "    }\n",
       "\n",
       "    .dataframe tbody tr th {\n",
       "        vertical-align: top;\n",
       "    }\n",
       "\n",
       "    .dataframe thead th {\n",
       "        text-align: right;\n",
       "    }\n",
       "</style>\n",
       "<table border=\"1\" class=\"dataframe\">\n",
       "  <thead>\n",
       "    <tr style=\"text-align: right;\">\n",
       "      <th></th>\n",
       "      <th>Gender</th>\n",
       "      <th>HeightCm</th>\n",
       "      <th>WeightKg</th>\n",
       "      <th>BMI Range (kg/m2)</th>\n",
       "      <th>BMI Category</th>\n",
       "      <th>Health risk</th>\n",
       "    </tr>\n",
       "  </thead>\n",
       "  <tbody>\n",
       "    <tr>\n",
       "      <td>0</td>\n",
       "      <td>Male</td>\n",
       "      <td>171</td>\n",
       "      <td>96</td>\n",
       "      <td>32.830615</td>\n",
       "      <td>Moderately obese</td>\n",
       "      <td>Medium risk</td>\n",
       "    </tr>\n",
       "    <tr>\n",
       "      <td>1</td>\n",
       "      <td>Male</td>\n",
       "      <td>161</td>\n",
       "      <td>85</td>\n",
       "      <td>32.791945</td>\n",
       "      <td>Moderately obese</td>\n",
       "      <td>Medium risk</td>\n",
       "    </tr>\n",
       "    <tr>\n",
       "      <td>2</td>\n",
       "      <td>Male</td>\n",
       "      <td>180</td>\n",
       "      <td>77</td>\n",
       "      <td>23.765432</td>\n",
       "      <td>Normal weight</td>\n",
       "      <td>Low risk</td>\n",
       "    </tr>\n",
       "    <tr>\n",
       "      <td>3</td>\n",
       "      <td>Female</td>\n",
       "      <td>166</td>\n",
       "      <td>62</td>\n",
       "      <td>22.499637</td>\n",
       "      <td>Normal weight</td>\n",
       "      <td>Low risk</td>\n",
       "    </tr>\n",
       "    <tr>\n",
       "      <td>4</td>\n",
       "      <td>Female</td>\n",
       "      <td>150</td>\n",
       "      <td>70</td>\n",
       "      <td>31.111111</td>\n",
       "      <td>Moderately obese</td>\n",
       "      <td>Medium risk</td>\n",
       "    </tr>\n",
       "    <tr>\n",
       "      <td>5</td>\n",
       "      <td>Female</td>\n",
       "      <td>167</td>\n",
       "      <td>82</td>\n",
       "      <td>29.402273</td>\n",
       "      <td>Overweight</td>\n",
       "      <td>Enhanced risk</td>\n",
       "    </tr>\n",
       "  </tbody>\n",
       "</table>\n",
       "</div>"
      ],
      "text/plain": [
       "   Gender  HeightCm  WeightKg  BMI Range (kg/m2)      BMI Category  \\\n",
       "0    Male       171        96          32.830615  Moderately obese   \n",
       "1    Male       161        85          32.791945  Moderately obese   \n",
       "2    Male       180        77          23.765432     Normal weight   \n",
       "3  Female       166        62          22.499637     Normal weight   \n",
       "4  Female       150        70          31.111111  Moderately obese   \n",
       "5  Female       167        82          29.402273        Overweight   \n",
       "\n",
       "     Health risk  \n",
       "0    Medium risk  \n",
       "1    Medium risk  \n",
       "2       Low risk  \n",
       "3       Low risk  \n",
       "4    Medium risk  \n",
       "5  Enhanced risk  "
      ]
     },
     "execution_count": 9,
     "metadata": {},
     "output_type": "execute_result"
    }
   ],
   "source": [
    "bmi_data"
   ]
  },
  {
   "cell_type": "code",
   "execution_count": 13,
   "metadata": {},
   "outputs": [],
   "source": [
    "bmi_data.to_json('BMI_DATA_UPDATED.json')"
   ]
  },
  {
   "cell_type": "code",
   "execution_count": 16,
   "metadata": {},
   "outputs": [],
   "source": [
    "with open('BMI_DATA_UPDATED.json', 'r') as f:\n",
    "    dataupdate= json.load(f)"
   ]
  },
  {
   "cell_type": "code",
   "execution_count": 17,
   "metadata": {},
   "outputs": [
    {
     "data": {
      "text/plain": [
       "{'Gender': {'0': 'Male',\n",
       "  '1': 'Male',\n",
       "  '2': 'Male',\n",
       "  '3': 'Female',\n",
       "  '4': 'Female',\n",
       "  '5': 'Female'},\n",
       " 'HeightCm': {'0': 171, '1': 161, '2': 180, '3': 166, '4': 150, '5': 167},\n",
       " 'WeightKg': {'0': 96, '1': 85, '2': 77, '3': 62, '4': 70, '5': 82},\n",
       " 'BMI Range (kg/m2)': {'0': 32.8306145481,\n",
       "  '1': 32.7919447552,\n",
       "  '2': 23.7654320988,\n",
       "  '3': 22.4996371026,\n",
       "  '4': 31.1111111111,\n",
       "  '5': 29.4022732977},\n",
       " 'BMI Category': {'0': 'Moderately obese',\n",
       "  '1': 'Moderately obese',\n",
       "  '2': 'Normal weight',\n",
       "  '3': 'Normal weight',\n",
       "  '4': 'Moderately obese',\n",
       "  '5': 'Overweight'},\n",
       " 'Health risk': {'0': 'Medium risk',\n",
       "  '1': 'Medium risk',\n",
       "  '2': 'Low risk',\n",
       "  '3': 'Low risk',\n",
       "  '4': 'Medium risk',\n",
       "  '5': 'Enhanced risk'}}"
      ]
     },
     "execution_count": 17,
     "metadata": {},
     "output_type": "execute_result"
    }
   ],
   "source": [
    "dataupdate"
   ]
  },
  {
   "cell_type": "code",
   "execution_count": null,
   "metadata": {},
   "outputs": [],
   "source": []
  }
 ],
 "metadata": {
  "kernelspec": {
   "display_name": "Python 3",
   "language": "python",
   "name": "python3"
  },
  "language_info": {
   "codemirror_mode": {
    "name": "ipython",
    "version": 3
   },
   "file_extension": ".py",
   "mimetype": "text/x-python",
   "name": "python",
   "nbconvert_exporter": "python",
   "pygments_lexer": "ipython3",
   "version": "3.7.4"
  }
 },
 "nbformat": 4,
 "nbformat_minor": 2
}
